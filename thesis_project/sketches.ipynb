{
 "cells": [
  {
   "cell_type": "code",
   "execution_count": 1,
   "metadata": {},
   "outputs": [],
   "source": [
    "import blind_review.mask_for_review\n",
    "import project_config\n",
    "import utilities as util\n",
    "import thesis_database\n",
    "project_config_folder_path = project_config.__path__._path\n",
    "\n",
    "\n",
    "def get_database_config(a_project_name):\n",
    "    project_config_file = f\"{project_config_folder_path[0]}/{a_project_name}_project_config.yaml\"\n",
    "    return util.read_project_config(project_config_file)\n",
    "\n",
    "\n",
    "project_name = 'hello'\n",
    "experiment_name='skilled-reaching'\n",
    "thesis_database.initialize_database(project_name)\n",
    "experiment = thesis_database.Experiment.from_db(experiment_name = experiment_name)"
   ]
  },
  {
   "cell_type": "markdown",
   "metadata": {
    "pycharm": {
     "name": "#%% md\n"
    }
   },
   "source": [
    "After testing both ways to obtain the list of folders that need to be blinded from the database, I've now established\n",
    "which is the fastest and have integrated that into the code blocks below.\n",
    "\n",
    "    import time\n",
    "    time1 = time.time()\n",
    "    all_not_blind_folders = thesis_database.list_all_not_blind_folders(experiment)\n",
    "    print({time.time()-time1})"
   ]
  },
  {
   "cell_type": "code",
   "execution_count": 2,
   "metadata": {
    "pycharm": {
     "name": "#%%\n"
    }
   },
   "outputs": [],
   "source": [
    "all_folders_not_blinded = blind_review.list_all_folders_not_blinded(experiment)"
   ]
  },
  {
   "cell_type": "code",
   "execution_count": 3,
   "metadata": {
    "pycharm": {
     "name": "#%%\n"
    }
   },
   "outputs": [
    {
     "ename": "ProgrammingError",
     "evalue": "can't adapt type 'PosixPath'",
     "output_type": "error",
     "traceback": [
      "\u001B[0;31m---------------------------------------------------------------------------\u001B[0m",
      "\u001B[0;31mProgrammingError\u001B[0m                          Traceback (most recent call last)",
      "\u001B[0;32m<ipython-input-3-57396656bd5b>\u001B[0m in \u001B[0;36m<module>\u001B[0;34m\u001B[0m\n\u001B[1;32m      3\u001B[0m \u001B[0mfolders_to_mask\u001B[0m \u001B[0;34m=\u001B[0m \u001B[0mrandom\u001B[0m\u001B[0;34m.\u001B[0m\u001B[0msample\u001B[0m\u001B[0;34m(\u001B[0m\u001B[0mall_folders_not_blinded\u001B[0m\u001B[0;34m,\u001B[0m \u001B[0;36m1\u001B[0m\u001B[0;34m)\u001B[0m\u001B[0;34m\u001B[0m\u001B[0;34m\u001B[0m\u001B[0m\n\u001B[1;32m      4\u001B[0m \u001B[0;32mfor\u001B[0m \u001B[0mfolder\u001B[0m \u001B[0;32min\u001B[0m \u001B[0mfolders_to_mask\u001B[0m\u001B[0;34m:\u001B[0m\u001B[0;34m\u001B[0m\u001B[0;34m\u001B[0m\u001B[0m\n\u001B[0;32m----> 5\u001B[0;31m     \u001B[0mblind_review\u001B[0m\u001B[0;34m.\u001B[0m\u001B[0mmask_for_review\u001B[0m\u001B[0;34m.\u001B[0m\u001B[0mmask_folder\u001B[0m\u001B[0;34m(\u001B[0m\u001B[0mreviewer\u001B[0m\u001B[0;34m,\u001B[0m \u001B[0mfolder\u001B[0m\u001B[0;34m)\u001B[0m\u001B[0;34m\u001B[0m\u001B[0;34m\u001B[0m\u001B[0m\n\u001B[0m",
      "\u001B[0;32m~/Documents/GitHub/thesis_project/thesis_project/blind_review/mask_for_review.py\u001B[0m in \u001B[0;36mmask_folder\u001B[0;34m(reviewer, folder)\u001B[0m\n\u001B[1;32m     38\u001B[0m         \u001B[0mtrial\u001B[0m \u001B[0;34m=\u001B[0m \u001B[0mTrial\u001B[0m\u001B[0;34m.\u001B[0m\u001B[0mfrom_db\u001B[0m\u001B[0;34m(\u001B[0m\u001B[0mtrial_id\u001B[0m\u001B[0;34m=\u001B[0m\u001B[0mtrial_id\u001B[0m\u001B[0;34m)\u001B[0m\u001B[0;34m\u001B[0m\u001B[0;34m\u001B[0m\u001B[0m\n\u001B[1;32m     39\u001B[0m         \u001B[0mmasked_trial_dir\u001B[0m \u001B[0;34m=\u001B[0m \u001B[0mmasked_folder_dir\u001B[0m\u001B[0;34m.\u001B[0m\u001B[0mjoinpath\u001B[0m\u001B[0;34m(\u001B[0m\u001B[0;34mf'{masked_folder.blind_name}_{trial_num}.mp4'\u001B[0m\u001B[0;34m)\u001B[0m\u001B[0;34m\u001B[0m\u001B[0;34m\u001B[0m\u001B[0m\n\u001B[0;32m---> 40\u001B[0;31m         \u001B[0msuccess\u001B[0m \u001B[0;34m=\u001B[0m \u001B[0mmask_trial\u001B[0m\u001B[0;34m(\u001B[0m\u001B[0mtrial\u001B[0m\u001B[0;34m,\u001B[0m \u001B[0mmasked_trial_dir\u001B[0m\u001B[0;34m)\u001B[0m\u001B[0;34m\u001B[0m\u001B[0;34m\u001B[0m\u001B[0m\n\u001B[0m\u001B[1;32m     41\u001B[0m         \u001B[0;32mif\u001B[0m \u001B[0;32mnot\u001B[0m \u001B[0msuccess\u001B[0m\u001B[0;34m:\u001B[0m\u001B[0;34m\u001B[0m\u001B[0;34m\u001B[0m\u001B[0m\n\u001B[1;32m     42\u001B[0m             \u001B[0mprint\u001B[0m\u001B[0;34m(\u001B[0m\u001B[0;34m\"Issues copying\"\u001B[0m\u001B[0;34m)\u001B[0m\u001B[0;34m\u001B[0m\u001B[0;34m\u001B[0m\u001B[0m\n",
      "\u001B[0;32m~/Documents/GitHub/thesis_project/thesis_project/blind_review/mask_for_review.py\u001B[0m in \u001B[0;36mmask_trial\u001B[0;34m(trial, masked_trial_dir)\u001B[0m\n\u001B[1;32m      9\u001B[0m \u001B[0;34m\u001B[0m\u001B[0m\n\u001B[1;32m     10\u001B[0m \u001B[0;32mdef\u001B[0m \u001B[0mmask_trial\u001B[0m\u001B[0;34m(\u001B[0m\u001B[0mtrial\u001B[0m\u001B[0;34m,\u001B[0m \u001B[0mmasked_trial_dir\u001B[0m\u001B[0;34m)\u001B[0m\u001B[0;34m:\u001B[0m\u001B[0;34m\u001B[0m\u001B[0;34m\u001B[0m\u001B[0m\n\u001B[0;32m---> 11\u001B[0;31m     \u001B[0mBlindTrial\u001B[0m\u001B[0;34m(\u001B[0m\u001B[0mtrial\u001B[0m\u001B[0;34m.\u001B[0m\u001B[0mtrial_id\u001B[0m\u001B[0;34m,\u001B[0m \u001B[0mtrial\u001B[0m\u001B[0;34m.\u001B[0m\u001B[0mfolder_id\u001B[0m\u001B[0;34m,\u001B[0m \u001B[0mmasked_trial_dir\u001B[0m\u001B[0;34m)\u001B[0m\u001B[0;34m.\u001B[0m\u001B[0msave_to_db\u001B[0m\u001B[0;34m(\u001B[0m\u001B[0;34m)\u001B[0m\u001B[0;34m\u001B[0m\u001B[0;34m\u001B[0m\u001B[0m\n\u001B[0m\u001B[1;32m     12\u001B[0m     \u001B[0;32mtry\u001B[0m\u001B[0;34m:\u001B[0m\u001B[0;34m\u001B[0m\u001B[0;34m\u001B[0m\u001B[0m\n\u001B[1;32m     13\u001B[0m         \u001B[0mshutil\u001B[0m\u001B[0;34m.\u001B[0m\u001B[0mcopy\u001B[0m\u001B[0;34m(\u001B[0m\u001B[0mtrial\u001B[0m\u001B[0;34m.\u001B[0m\u001B[0mtrial_dir\u001B[0m\u001B[0;34m,\u001B[0m \u001B[0mmasked_trial_dir\u001B[0m\u001B[0;34m)\u001B[0m\u001B[0;34m\u001B[0m\u001B[0;34m\u001B[0m\u001B[0m\n",
      "\u001B[0;32m~/Documents/GitHub/thesis_database/thesis_database/models/blind_trials.py\u001B[0m in \u001B[0;36msave_to_db\u001B[0;34m(self, testing, postgresql)\u001B[0m\n\u001B[1;32m     88\u001B[0m         \u001B[0;32melse\u001B[0m\u001B[0;34m:\u001B[0m\u001B[0;34m\u001B[0m\u001B[0;34m\u001B[0m\u001B[0m\n\u001B[1;32m     89\u001B[0m             \u001B[0;32mwith\u001B[0m \u001B[0mCursor\u001B[0m\u001B[0;34m(\u001B[0m\u001B[0;34m)\u001B[0m \u001B[0;32mas\u001B[0m \u001B[0mcursor\u001B[0m\u001B[0;34m:\u001B[0m\u001B[0;34m\u001B[0m\u001B[0;34m\u001B[0m\u001B[0m\n\u001B[0;32m---> 90\u001B[0;31m                 \u001B[0;32mreturn\u001B[0m \u001B[0msave_to_db_main\u001B[0m\u001B[0;34m(\u001B[0m\u001B[0mcursor\u001B[0m\u001B[0;34m)\u001B[0m\u001B[0;34m\u001B[0m\u001B[0;34m\u001B[0m\u001B[0m\n\u001B[0m\u001B[1;32m     91\u001B[0m \u001B[0;34m\u001B[0m\u001B[0m\n\u001B[1;32m     92\u001B[0m     \u001B[0;32mdef\u001B[0m \u001B[0mdelete_from_db\u001B[0m\u001B[0;34m(\u001B[0m\u001B[0mself\u001B[0m\u001B[0;34m,\u001B[0m \u001B[0mtesting\u001B[0m\u001B[0;34m=\u001B[0m\u001B[0;32mFalse\u001B[0m\u001B[0;34m,\u001B[0m \u001B[0mpostgresql\u001B[0m\u001B[0;34m=\u001B[0m\u001B[0;32mNone\u001B[0m\u001B[0;34m)\u001B[0m\u001B[0;34m:\u001B[0m\u001B[0;34m\u001B[0m\u001B[0;34m\u001B[0m\u001B[0m\n",
      "\u001B[0;32m~/Documents/GitHub/thesis_database/thesis_database/models/blind_trials.py\u001B[0m in \u001B[0;36msave_to_db_main\u001B[0;34m(a_cursor)\u001B[0m\n\u001B[1;32m     73\u001B[0m         \u001B[0;32mdef\u001B[0m \u001B[0msave_to_db_main\u001B[0m\u001B[0;34m(\u001B[0m\u001B[0ma_cursor\u001B[0m\u001B[0;34m)\u001B[0m\u001B[0;34m:\u001B[0m\u001B[0;34m\u001B[0m\u001B[0;34m\u001B[0m\u001B[0m\n\u001B[1;32m     74\u001B[0m             \u001B[0mreturn_blind_trial_id\u001B[0m \u001B[0;34m=\u001B[0m \u001B[0mself\u001B[0m\u001B[0;34m.\u001B[0m\u001B[0mfrom_db\u001B[0m\u001B[0;34m(\u001B[0m\u001B[0mblind_trial_id\u001B[0m\u001B[0;34m=\u001B[0m\u001B[0mself\u001B[0m\u001B[0;34m.\u001B[0m\u001B[0mblind_trial_id\u001B[0m\u001B[0;34m)\u001B[0m\u001B[0;34m\u001B[0m\u001B[0;34m\u001B[0m\u001B[0m\n\u001B[0;32m---> 75\u001B[0;31m             \u001B[0mreturn_full_path\u001B[0m \u001B[0;34m=\u001B[0m \u001B[0mself\u001B[0m\u001B[0;34m.\u001B[0m\u001B[0mfrom_db\u001B[0m\u001B[0;34m(\u001B[0m\u001B[0mfull_path\u001B[0m\u001B[0;34m=\u001B[0m\u001B[0mself\u001B[0m\u001B[0;34m.\u001B[0m\u001B[0mfull_path\u001B[0m\u001B[0;34m)\u001B[0m\u001B[0;34m\u001B[0m\u001B[0;34m\u001B[0m\u001B[0m\n\u001B[0m\u001B[1;32m     76\u001B[0m             \u001B[0;32mif\u001B[0m \u001B[0mself\u001B[0m \u001B[0;34m==\u001B[0m \u001B[0mreturn_blind_trial_id\u001B[0m\u001B[0;34m:\u001B[0m\u001B[0;34m\u001B[0m\u001B[0;34m\u001B[0m\u001B[0m\n\u001B[1;32m     77\u001B[0m                 \u001B[0;32mreturn\u001B[0m \u001B[0mself\u001B[0m\u001B[0;34m\u001B[0m\u001B[0;34m\u001B[0m\u001B[0m\n",
      "\u001B[0;32m~/Documents/GitHub/thesis_database/thesis_database/models/blind_trials.py\u001B[0m in \u001B[0;36mfrom_db\u001B[0;34m(cls, full_path, blind_trial_id, reviewer_id, trial_id, testing, postgresql)\u001B[0m\n\u001B[1;32m     57\u001B[0m         \u001B[0;32melse\u001B[0m\u001B[0;34m:\u001B[0m\u001B[0;34m\u001B[0m\u001B[0;34m\u001B[0m\u001B[0m\n\u001B[1;32m     58\u001B[0m             \u001B[0;32mwith\u001B[0m \u001B[0mCursor\u001B[0m\u001B[0;34m(\u001B[0m\u001B[0;34m)\u001B[0m \u001B[0;32mas\u001B[0m \u001B[0mcursor\u001B[0m\u001B[0;34m:\u001B[0m\u001B[0;34m\u001B[0m\u001B[0;34m\u001B[0m\u001B[0m\n\u001B[0;32m---> 59\u001B[0;31m                 \u001B[0;32mreturn\u001B[0m \u001B[0mfrom_db_main\u001B[0m\u001B[0;34m(\u001B[0m\u001B[0mcursor\u001B[0m\u001B[0;34m,\u001B[0m \u001B[0mfull_path\u001B[0m\u001B[0;34m,\u001B[0m \u001B[0mblind_trial_id\u001B[0m\u001B[0;34m,\u001B[0m \u001B[0mreviewer_id\u001B[0m\u001B[0;34m,\u001B[0m \u001B[0mtrial_id\u001B[0m\u001B[0;34m)\u001B[0m\u001B[0;34m\u001B[0m\u001B[0;34m\u001B[0m\u001B[0m\n\u001B[0m\u001B[1;32m     60\u001B[0m \u001B[0;34m\u001B[0m\u001B[0m\n\u001B[1;32m     61\u001B[0m     \u001B[0;32mdef\u001B[0m \u001B[0msave_to_db\u001B[0m\u001B[0;34m(\u001B[0m\u001B[0mself\u001B[0m\u001B[0;34m,\u001B[0m \u001B[0mtesting\u001B[0m\u001B[0;34m=\u001B[0m\u001B[0;32mFalse\u001B[0m\u001B[0;34m,\u001B[0m \u001B[0mpostgresql\u001B[0m\u001B[0;34m=\u001B[0m\u001B[0;32mNone\u001B[0m\u001B[0;34m)\u001B[0m\u001B[0;34m:\u001B[0m\u001B[0;34m\u001B[0m\u001B[0;34m\u001B[0m\u001B[0m\n",
      "\u001B[0;32m~/Documents/GitHub/thesis_database/thesis_database/models/blind_trials.py\u001B[0m in \u001B[0;36mfrom_db_main\u001B[0;34m(a_cursor, a_full_path, a_blind_trial_id, a_reviewer_id, a_trial_id)\u001B[0m\n\u001B[1;32m     41\u001B[0m                 \u001B[0mblind_trial_data\u001B[0m \u001B[0;34m=\u001B[0m \u001B[0mby_id\u001B[0m\u001B[0;34m(\u001B[0m\u001B[0ma_cursor\u001B[0m\u001B[0;34m,\u001B[0m \u001B[0ma_blind_trial_id\u001B[0m\u001B[0;34m)\u001B[0m\u001B[0;34m\u001B[0m\u001B[0;34m\u001B[0m\u001B[0m\n\u001B[1;32m     42\u001B[0m             \u001B[0;32melif\u001B[0m \u001B[0mfull_path\u001B[0m \u001B[0;32mis\u001B[0m \u001B[0;32mnot\u001B[0m \u001B[0;32mNone\u001B[0m\u001B[0;34m:\u001B[0m\u001B[0;34m\u001B[0m\u001B[0;34m\u001B[0m\u001B[0m\n\u001B[0;32m---> 43\u001B[0;31m                 \u001B[0mblind_trial_data\u001B[0m \u001B[0;34m=\u001B[0m \u001B[0mby_full_path\u001B[0m\u001B[0;34m(\u001B[0m\u001B[0ma_cursor\u001B[0m\u001B[0;34m,\u001B[0m \u001B[0ma_full_path\u001B[0m\u001B[0;34m)\u001B[0m\u001B[0;34m\u001B[0m\u001B[0;34m\u001B[0m\u001B[0m\n\u001B[0m\u001B[1;32m     44\u001B[0m             \u001B[0;32melif\u001B[0m \u001B[0mreviewer_id\u001B[0m \u001B[0;32mis\u001B[0m \u001B[0;32mnot\u001B[0m \u001B[0;32mNone\u001B[0m \u001B[0;32mand\u001B[0m \u001B[0mtrial_id\u001B[0m \u001B[0;32mis\u001B[0m \u001B[0;32mnot\u001B[0m \u001B[0;32mNone\u001B[0m\u001B[0;34m:\u001B[0m\u001B[0;34m\u001B[0m\u001B[0;34m\u001B[0m\u001B[0m\n\u001B[1;32m     45\u001B[0m                 \u001B[0mblind_trial_data\u001B[0m \u001B[0;34m=\u001B[0m \u001B[0mby_reviewer_trial_ids\u001B[0m\u001B[0;34m(\u001B[0m\u001B[0ma_cursor\u001B[0m\u001B[0;34m,\u001B[0m \u001B[0ma_reviewer_id\u001B[0m\u001B[0;34m,\u001B[0m \u001B[0ma_trial_id\u001B[0m\u001B[0;34m)\u001B[0m\u001B[0;34m\u001B[0m\u001B[0;34m\u001B[0m\u001B[0m\n",
      "\u001B[0;32m~/Documents/GitHub/thesis_database/thesis_database/models/blind_trials.py\u001B[0m in \u001B[0;36mby_full_path\u001B[0;34m(a_cursor, a_full_path)\u001B[0m\n\u001B[1;32m     25\u001B[0m \u001B[0;34m\u001B[0m\u001B[0m\n\u001B[1;32m     26\u001B[0m         \u001B[0;32mdef\u001B[0m \u001B[0mby_full_path\u001B[0m\u001B[0;34m(\u001B[0m\u001B[0ma_cursor\u001B[0m\u001B[0;34m,\u001B[0m \u001B[0ma_full_path\u001B[0m\u001B[0;34m)\u001B[0m\u001B[0;34m:\u001B[0m\u001B[0;34m\u001B[0m\u001B[0;34m\u001B[0m\u001B[0m\n\u001B[0;32m---> 27\u001B[0;31m             \u001B[0ma_cursor\u001B[0m\u001B[0;34m.\u001B[0m\u001B[0mexecute\u001B[0m\u001B[0;34m(\u001B[0m\u001B[0;34m\"SELECT * FROM blind_trials WHERE full_path = %s\"\u001B[0m\u001B[0;34m,\u001B[0m \u001B[0;34m(\u001B[0m\u001B[0ma_full_path\u001B[0m\u001B[0;34m,\u001B[0m\u001B[0;34m)\u001B[0m\u001B[0;34m)\u001B[0m\u001B[0;34m\u001B[0m\u001B[0;34m\u001B[0m\u001B[0m\n\u001B[0m\u001B[1;32m     28\u001B[0m             \u001B[0;32mreturn\u001B[0m \u001B[0ma_cursor\u001B[0m\u001B[0;34m.\u001B[0m\u001B[0mfetchone\u001B[0m\u001B[0;34m(\u001B[0m\u001B[0;34m)\u001B[0m\u001B[0;34m\u001B[0m\u001B[0;34m\u001B[0m\u001B[0m\n\u001B[1;32m     29\u001B[0m \u001B[0;34m\u001B[0m\u001B[0m\n",
      "\u001B[0;31mProgrammingError\u001B[0m: can't adapt type 'PosixPath'"
     ]
    }
   ],
   "source": [
    "import random\n",
    "reviewer = thesis_database.Reviewer.from_db(reviewer_fullname='Krista K')\n",
    "folders_to_mask = random.sample(all_folders_not_blinded, 1)\n",
    "for folder in folders_to_mask:\n",
    "    blind_review.mask_for_review.mask_folder(reviewer, folder)"
   ]
  },
  {
   "cell_type": "code",
   "execution_count": null,
   "outputs": [],
   "source": [],
   "metadata": {
    "collapsed": false,
    "pycharm": {
     "name": "#%%\n"
    }
   }
  },
  {
   "cell_type": "code",
   "execution_count": null,
   "metadata": {},
   "outputs": [],
   "source": []
  }
 ],
 "metadata": {
  "kernelspec": {
   "display_name": "Python 3",
   "language": "python",
   "name": "python3"
  },
  "language_info": {
   "codemirror_mode": {
    "name": "ipython",
    "version": 3
   },
   "file_extension": ".py",
   "mimetype": "text/x-python",
   "name": "python",
   "nbconvert_exporter": "python",
   "pygments_lexer": "ipython3",
   "version": "3.7.7"
  }
 },
 "nbformat": 4,
 "nbformat_minor": 1
}