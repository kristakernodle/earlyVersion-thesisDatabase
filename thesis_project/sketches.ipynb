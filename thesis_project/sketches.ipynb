{
 "cells": [
  {
   "cell_type": "code",
   "execution_count": 1,
   "metadata": {
    "pycharm": {
     "name": "#%%\n"
    }
   },
   "outputs": [],
   "source": [
    "import thesis_database\n",
    "\n",
    "project_name = 'hello'\n",
    "experiment_name='skilled-reaching'\n",
    "thesis_database.initialize_database(project_name)\n",
    "experiment = thesis_database.Experiment.from_db(experiment_name = experiment_name)"
   ]
  },
  {
   "cell_type": "markdown",
   "source": [
    "Trying to create a function that will compare all of the masked folders in the database to all of the folders in each\n",
    "reviewer's 'scored' and 'toScore' directories. Any blind folders that are not masked should then be masked."
   ],
   "metadata": {
    "collapsed": false,
    "pycharm": {
     "name": "#%% md\n"
    }
   }
  },
  {
   "cell_type": "code",
   "execution_count": 2,
   "outputs": [],
   "source": [
    "# Step One: Get a list of all the blind_folders in the database\n",
    "all_blinded_folders = thesis_database.tools.get.list_all_blinded_folders(experiment)"
   ],
   "metadata": {
    "collapsed": false,
    "pycharm": {
     "name": "#%%\n"
    }
   }
  },
  {
   "cell_type": "code",
   "execution_count": 3,
   "outputs": [],
   "source": [
    "# Step Two: Get a list of all the blind names in each reviewer's 'scored' and 'toScore' directories\n",
    "import os\n",
    "\n",
    "reviewer = thesis_database.Reviewer.from_db(reviewer_fullname='Krista K')\n",
    "all_reviewer_csv_files = os.listdir(reviewer.scored_dir)\n",
    "all_reviewer_csv_files.extend(os.listdir(reviewer.toScore_dir))\n",
    "\n",
    "all_blind_names_for_reviewer_known = [csv.split('_')[0] for csv in all_reviewer_csv_files]"
   ],
   "metadata": {
    "collapsed": false,
    "pycharm": {
     "name": "#%%\n"
    }
   }
  },
  {
   "cell_type": "code",
   "execution_count": 4,
   "outputs": [],
   "source": [
    "all_blind_names_for_reviewer_absolute = \\\n",
    "    thesis_database.tools.get.list_all_blind_names_for_reviewer_experiment(reviewer, experiment)"
   ],
   "metadata": {
    "collapsed": false,
    "pycharm": {
     "name": "#%%\n"
    }
   }
  },
  {
   "cell_type": "code",
   "execution_count": 5,
   "outputs": [],
   "source": [
    "all_blind_names_for_reviewer_lost = list()\n",
    "for blind_name in all_blind_names_for_reviewer_absolute:\n",
    "    if blind_name in all_blind_names_for_reviewer_known:\n",
    "        continue\n",
    "    all_blind_names_for_reviewer_lost.append(blind_name)"
   ],
   "metadata": {
    "collapsed": false,
    "pycharm": {
     "name": "#%%\n"
    }
   }
  },
  {
   "cell_type": "code",
   "execution_count": null,
   "outputs": [],
   "source": [
    "import blind_review\n",
    "for blind_name in all_blind_names_for_reviewer_lost:\n",
    "    blind_folder = thesis_database.BlindFolder.from_db(blind_name=blind_name)\n",
    "    folder = thesis_database.Folder.from_db(folder_id=blind_folder.folder_id)\n",
    "    blind_review.mask_for_review.mask_folder(reviewer, folder)"
   ],
   "metadata": {
    "collapsed": false,
    "pycharm": {
     "name": "#%%\n",
     "is_executing": true
    }
   }
  }
 ],
 "metadata": {
  "kernelspec": {
   "display_name": "Python 3",
   "language": "python",
   "name": "python3"
  },
  "language_info": {
   "codemirror_mode": {
    "name": "ipython",
    "version": 3
   },
   "file_extension": ".py",
   "mimetype": "text/x-python",
   "name": "python",
   "nbconvert_exporter": "python",
   "pygments_lexer": "ipython3",
   "version": "3.7.7"
  }
 },
 "nbformat": 4,
 "nbformat_minor": 1
}