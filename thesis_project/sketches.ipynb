{
 "cells": [
  {
   "cell_type": "code",
   "execution_count": 1,
   "metadata": {
    "collapsed": true
   },
   "outputs": [],
   "source": [
    "import blind_review.mask_for_review\n",
    "import project_config\n",
    "import utilities as util\n",
    "import thesis_database\n",
    "import time\n",
    "project_config_folder_path = project_config.__path__._path\n",
    "\n",
    "\n",
    "def get_database_config(project_name):\n",
    "    project_config = f\"{project_config_folder_path[0]}/{project_name}_project_config.yaml\"\n",
    "    return util.read_project_config(project_config)\n",
    "\n",
    "\n",
    "project_name = 'hello'\n",
    "experiment_name='skilled-reaching'\n",
    "thesis_database.initialize_database(project_name)\n",
    "experiment = thesis_database.Experiment.from_db(experiment_name = experiment_name)"
   ]
  },
  {
   "cell_type": "markdown",
   "source": [
    "After testing both ways to obtain the list of folders that need to be blinded from the database, I've now established\n",
    "which is the fastest and have integrated that into the code blocks below.\n",
    "\n",
    "    time1 = time.time()\n",
    "    all_not_blind_folders = thesis_database.list_all_not_blind_folders(experiment)\n",
    "    print({time.time()-time1})"
   ],
   "metadata": {
    "collapsed": false,
    "pycharm": {
     "name": "#%% md\n"
    }
   }
  },
  {
   "cell_type": "code",
   "execution_count": 3,
   "outputs": [
    {
     "name": "stdout",
     "output_type": "stream",
     "text": [
      "{0.21609997749328613}\n"
     ]
    }
   ],
   "source": [
    "all_folders_to_masked = blind_review.list_all_folders_not_blinded(experiment)\n"
   ],
   "metadata": {
    "collapsed": false,
    "pycharm": {
     "name": "#%%\n"
    }
   }
  }
 ],
 "metadata": {
  "kernelspec": {
   "display_name": "Python 3",
   "language": "python",
   "name": "python3"
  },
  "language_info": {
   "codemirror_mode": {
    "name": "ipython",
    "version": 2
   },
   "file_extension": ".py",
   "mimetype": "text/x-python",
   "name": "python",
   "nbconvert_exporter": "python",
   "pygments_lexer": "ipython2",
   "version": "2.7.6"
  }
 },
 "nbformat": 4,
 "nbformat_minor": 0
}