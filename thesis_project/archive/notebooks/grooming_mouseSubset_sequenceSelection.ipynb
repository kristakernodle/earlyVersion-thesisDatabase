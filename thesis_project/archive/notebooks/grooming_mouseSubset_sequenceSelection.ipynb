{
 "cells": [
  {
   "cell_type": "markdown",
   "metadata": {
    "collapsed": true,
    "pycharm": {
     "name": "#%% md\n"
    }
   },
   "source": [
    "Set-up as in grooming_mouseSubsetSelection"
   ]
  },
  {
   "cell_type": "code",
   "execution_count": 1,
   "outputs": [
    {
     "name": "stdout",
     "output_type": "stream",
     "text": [
      "No mouse in the database with mouse number 7044\n",
      "No mouse in the database with mouse number 7068\n",
      "No mouse in the database with mouse number 7025\n",
      "No mouse in the database with mouse number 7076\n",
      "No mouse in the database with mouse number 747\n",
      "No mouse in the database with mouse number 7035\n",
      "No mouse in the database with mouse number 750\n"
     ]
    }
   ],
   "source": [
    "from database.database import Database\n",
    "from data.constants import dbDetails, dbUser_Krista\n",
    "from models.experiments import Experiment\n",
    "from models.reviewers import Reviewer\n",
    "from database.update_database.update_from_data_dirs import update_from_data_dirs\n",
    "\n",
    "Database.initialize(**dbDetails, **dbUser_Krista)\n",
    "experiment_name = 'grooming'\n",
    "reviewer_name = 'Krista K'\n",
    "\n",
    "experiment = Experiment.from_db(experiment_name=experiment_name)\n",
    "reviewer = Reviewer.from_db(reviewer_fullname=reviewer_name)\n",
    "\n",
    "update_from_data_dirs(experiment)"
   ],
   "metadata": {
    "collapsed": false,
    "pycharm": {
     "name": "#%%\n"
    }
   }
  },
  {
   "cell_type": "markdown",
   "source": [
    "In order to select the sequences, I'll have to know how the session data is stored either:\n",
    "    1. All videos are present and no prior processing has been completed; or\n",
    "    2. Session folders have 'cut' folders inside of them, containing trials.\n",
    "\n",
    "In the case of 2, we can easily collect a list of all trials and then sample one per session.\n",
    "\n",
    "In the case of 1, we can randomly sample a numbers 1-30, and this provides the starting point\n",
    "for looking for a grooming sequence."
   ],
   "metadata": {
    "collapsed": false,
    "pycharm": {
     "name": "#%% md\n"
    }
   }
  },
  {
   "cell_type": "markdown",
   "source": [
    "Our list of mice for analysis is:\n",
    "7169, 7043, 7014, 745, 7061, 7062, 7063, 7064, 7065, 7166\n",
    "\n",
    "First, the mouse details will be loaded from the ParticipantDetails folder in order to obtain a\n",
    "list of all sessions for this animal."
   ],
   "metadata": {
    "collapsed": false
   }
  },
  {
   "cell_type": "code",
   "execution_count": 6,
   "outputs": [],
   "source": [
    "from random import randrange\n",
    "from pathlib import Path\n",
    "\n",
    "from models.mouse import Mouse\n",
    "from models.participant_details import ParticipantDetails\n",
    "from models.sessions import Session\n",
    "\n",
    "all_eartags = [7169, 7043, 7014, 745, 7061, 7062, 7063, 7064, 7065, 7166]\n",
    "\n",
    "all_selected_sessions = dict()\n",
    "for eartag in all_eartags:\n",
    "    mouse = Mouse.from_db(eartag)\n",
    "    mouse_details = ParticipantDetails.from_db(eartag, experiment_name)\n",
    "    all_sessions = Session.list_all_sessions(mouse, experiment)\n",
    "    pre_sr_sessions = [session for session in all_sessions if 'G4' not in session.session_dir]\n",
    "    post_sr_sessions = [session for session in all_sessions if 'G4' in session.session_dir]\n",
    "    session_timePoints_preSR = list()\n",
    "    session_timePoints_postSR = list()\n",
    "    for session in pre_sr_sessions:\n",
    "        cut_folders = list(Path(session.session_dir).glob('*_cut/'))\n",
    "        if len(cut_folders) > 0:\n",
    "            selected_cut_folder = cut_folders.pop()\n",
    "            trials_in_folders = list(Path(selected_cut_folder).glob('*'))\n",
    "            selected_timepoint = trials_in_folders.pop()\n",
    "        else:\n",
    "            selected_timepoint = randrange(1,30)\n",
    "        session_timePoints_preSR.append((session.session_dir, selected_timepoint))\n",
    "    for session in post_sr_sessions:\n",
    "        cut_folders = list(Path(session.session_dir).glob('*_cut/'))\n",
    "        if len(cut_folders) > 0:\n",
    "            selected_cut_folder = cut_folders.pop()\n",
    "            trials_in_folders = list(Path(selected_cut_folder).glob('*'))\n",
    "            selected_timepoint = trials_in_folders.pop()\n",
    "        else:\n",
    "            selected_timepoint = randrange(1,30)\n",
    "        session_timePoints_postSR.append({session.session_dir: selected_timepoint})\n",
    "    if len(post_sr_sessions) == 0:\n",
    "        selected_timepoint = randrange(1,30)\n",
    "        session_timePoints_postSR.append(('G4', selected_timepoint))\n",
    "    all_selected_sessions[eartag] = {'preSR': session_timePoints_preSR, 'postSR': session_timePoints_postSR}"
   ],
   "metadata": {
    "collapsed": false,
    "pycharm": {
     "name": "#%%\n"
    }
   }
  },
  {
   "cell_type": "code",
   "execution_count": 7,
   "outputs": [
    {
     "name": "stdout",
     "output_type": "stream",
     "text": [
      "{745: {'postSR': [{'/Volumes/SharedX/Neuro-Leventhal/data/mouseGrooming/et745/et745_20190507_CC1_G4': PosixPath('/Volumes/SharedX/Neuro-Leventhal/data/mouseGrooming/et745/et745_20190507_CC1_G4/745_20190507_CC1_02_cut/745_20190507_CC1_02_V02.mp4')}],\n",
      "       'preSR': [('/Volumes/SharedX/Neuro-Leventhal/data/mouseGrooming/et745/et745_20181130_CC1_G1',\n",
      "                  PosixPath('/Volumes/SharedX/Neuro-Leventhal/data/mouseGrooming/et745/et745_20181130_CC1_G1/745_20181130_CC1_03_cut/745_20181130_CC1_03_V03.mp4')),\n",
      "                 ('/Volumes/SharedX/Neuro-Leventhal/data/mouseGrooming/et745/et745_20181207_CC1_G2',\n",
      "                  PosixPath('/Volumes/SharedX/Neuro-Leventhal/data/mouseGrooming/et745/et745_20181207_CC1_G2/745_20181207_CC1_01_cut/745_20181207_CC1_01_V05.mp4')),\n",
      "                 ('/Volumes/SharedX/Neuro-Leventhal/data/mouseGrooming/et745/et745_20181214_CC2_G3',\n",
      "                  PosixPath('/Volumes/SharedX/Neuro-Leventhal/data/mouseGrooming/et745/et745_20181214_CC2_G3/745_20181214_CC2_02_cut/745_20181214_CC2_02_V04.mp4'))]},\n",
      " 7014: {'postSR': [('G4', 12)],\n",
      "        'preSR': [('/Volumes/SharedX/Neuro-Leventhal/data/mouseGrooming/et7014/et7014_20191111_CCG_G1',\n",
      "                   16),\n",
      "                  ('/Volumes/SharedX/Neuro-Leventhal/data/mouseGrooming/et7014/et7014_20200602_G3',\n",
      "                   17),\n",
      "                  ('/Volumes/SharedX/Neuro-Leventhal/data/mouseGrooming/et7014/et7014_20191119_CCG_G2',\n",
      "                   19)]},\n",
      " 7043: {'postSR': [{'/Volumes/SharedX/Neuro-Leventhal/data/mouseGrooming/et7043/et7043_20191101_CCG_G4': 10}],\n",
      "        'preSR': [('/Volumes/SharedX/Neuro-Leventhal/data/mouseGrooming/et7043/et7043_20190822_CC1_G3',\n",
      "                   12),\n",
      "                  ('/Volumes/SharedX/Neuro-Leventhal/data/mouseGrooming/et7043/et7043_20190809_CC1_G1',\n",
      "                   27),\n",
      "                  ('/Volumes/SharedX/Neuro-Leventhal/data/mouseGrooming/et7043/et7043_20190819_CC1_G2',\n",
      "                   3)]},\n",
      " 7061: {'postSR': [{'/Volumes/SharedX/Neuro-Leventhal/data/mouseGrooming/et7061/et7061_20190911_CC1_G4': 23}],\n",
      "        'preSR': [('/Volumes/SharedX/Neuro-Leventhal/data/mouseGrooming/et7061/et7061_20190527_CC3_G3',\n",
      "                   PosixPath('/Volumes/SharedX/Neuro-Leventhal/data/mouseGrooming/et7061/et7061_20190527_CC3_G3/7061_20190527_CC3_01_cut/7061_20190527_CC3_01_V03.mp4')),\n",
      "                  ('/Volumes/SharedX/Neuro-Leventhal/data/mouseGrooming/et7061/et7061_20190502_CC1_G1',\n",
      "                   PosixPath('/Volumes/SharedX/Neuro-Leventhal/data/mouseGrooming/et7061/et7061_20190502_CC1_G1/7061_20190502_CC1_02_cut/7061_20190502_CC1_02_V02.mp4')),\n",
      "                  ('/Volumes/SharedX/Neuro-Leventhal/data/mouseGrooming/et7061/et7061_20190514_CC1_G2',\n",
      "                   PosixPath('/Volumes/SharedX/Neuro-Leventhal/data/mouseGrooming/et7061/et7061_20190514_CC1_G2/7061_20190514_CC1_02_cut/7061_20190514_CC1_02_V02.mp4'))]},\n",
      " 7062: {'postSR': [{'/Volumes/SharedX/Neuro-Leventhal/data/mouseGrooming/et7062/et7062_20190912_CC1_G4': 29}],\n",
      "        'preSR': [('/Volumes/SharedX/Neuro-Leventhal/data/mouseGrooming/et7062/et7062_20190515_CC3_G2',\n",
      "                   4),\n",
      "                  ('/Volumes/SharedX/Neuro-Leventhal/data/mouseGrooming/et7062/et7062_20190502_CC1_G1',\n",
      "                   PosixPath('/Volumes/SharedX/Neuro-Leventhal/data/mouseGrooming/et7062/et7062_20190502_CC1_G1/7062_20190502_CC1_01_cut/7062_20190502_CC1_01_V15.mp4')),\n",
      "                  ('/Volumes/SharedX/Neuro-Leventhal/data/mouseGrooming/et7062/et7062_20190527_CC3_G3',\n",
      "                   6)]},\n",
      " 7063: {'postSR': [{'/Volumes/SharedX/Neuro-Leventhal/data/mouseGrooming/et7063/et7063_20190924_G4': 6}],\n",
      "        'preSR': [('/Volumes/SharedX/Neuro-Leventhal/data/mouseGrooming/et7063/et7063_20190514_CC1_G2',\n",
      "                   2),\n",
      "                  ('/Volumes/SharedX/Neuro-Leventhal/data/mouseGrooming/et7063/et7063_20190527_CC3_G3',\n",
      "                   27),\n",
      "                  ('/Volumes/SharedX/Neuro-Leventhal/data/mouseGrooming/et7063/et7063_20190502_CC1_G1',\n",
      "                   22)]},\n",
      " 7064: {'postSR': [{'/Volumes/SharedX/Neuro-Leventhal/data/mouseGrooming/et7064/et7064_20190912_CC1_G4': 12}],\n",
      "        'preSR': [('/Volumes/SharedX/Neuro-Leventhal/data/mouseGrooming/et7064/et7064_20190515_CC3_G2',\n",
      "                   4),\n",
      "                  ('/Volumes/SharedX/Neuro-Leventhal/data/mouseGrooming/et7064/et7064_20190502_CC1_G1',\n",
      "                   1),\n",
      "                  ('/Volumes/SharedX/Neuro-Leventhal/data/mouseGrooming/et7064/et7064_20190527_CC4_G3',\n",
      "                   28)]},\n",
      " 7065: {'postSR': [{'/Volumes/SharedX/Neuro-Leventhal/data/mouseGrooming/et7065/et7065_20190923_CC1_G4': 4}],\n",
      "        'preSR': [('/Volumes/SharedX/Neuro-Leventhal/data/mouseGrooming/et7065/et7065_20190502_CC1_G1',\n",
      "                   4),\n",
      "                  ('/Volumes/SharedX/Neuro-Leventhal/data/mouseGrooming/et7065/et7065_20190527_CC3_G3',\n",
      "                   20),\n",
      "                  ('/Volumes/SharedX/Neuro-Leventhal/data/mouseGrooming/et7065/et7065_20190515_CC3_G2',\n",
      "                   25)]},\n",
      " 7166: {'postSR': [('G4', 26)],\n",
      "        'preSR': [('/Volumes/SharedX/Neuro-Leventhal/data/mouseGrooming/et7166/et7166_20191122_G3',\n",
      "                   18),\n",
      "                  ('/Volumes/SharedX/Neuro-Leventhal/data/mouseGrooming/et7166/et7166_20200602_G3',\n",
      "                   9),\n",
      "                  ('/Volumes/SharedX/Neuro-Leventhal/data/mouseGrooming/et7166/et7166_20191115_CCG_G2',\n",
      "                   6),\n",
      "                  ('/Volumes/SharedX/Neuro-Leventhal/data/mouseGrooming/et7166/et7166_20191108_CCG_G1',\n",
      "                   3)]},\n",
      " 7169: {'postSR': [('G4', 14)],\n",
      "        'preSR': [('/Volumes/SharedX/Neuro-Leventhal/data/mouseGrooming/et7169/et7169_20200602_G3',\n",
      "                   24),\n",
      "                  ('/Volumes/SharedX/Neuro-Leventhal/data/mouseGrooming/et7169/et7169_20191115_CCG_G2',\n",
      "                   3),\n",
      "                  ('/Volumes/SharedX/Neuro-Leventhal/data/mouseGrooming/et7169/et7169_20191122_G3',\n",
      "                   1),\n",
      "                  ('/Volumes/SharedX/Neuro-Leventhal/data/mouseGrooming/et7169/et7169_20191108_CCG_G1',\n",
      "                   17)]}}\n"
     ]
    }
   ],
   "source": [
    "import pprint\n",
    "pprint.pprint(all_selected_sessions)\n",
    "\n",
    "\n",
    "\n",
    "\n"
   ],
   "metadata": {
    "collapsed": false,
    "pycharm": {
     "name": "#%%\n"
    }
   }
  }
 ],
 "metadata": {
  "kernelspec": {
   "display_name": "Python 3",
   "language": "python",
   "name": "python3"
  },
  "language_info": {
   "codemirror_mode": {
    "name": "ipython",
    "version": 2
   },
   "file_extension": ".py",
   "mimetype": "text/x-python",
   "name": "python",
   "nbconvert_exporter": "python",
   "pygments_lexer": "ipython2",
   "version": "2.7.6"
  }
 },
 "nbformat": 4,
 "nbformat_minor": 0
}