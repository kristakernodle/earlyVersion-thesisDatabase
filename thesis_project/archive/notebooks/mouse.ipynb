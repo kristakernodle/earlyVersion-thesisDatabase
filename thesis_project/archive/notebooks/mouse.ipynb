{
 "cells": [
  {
   "cell_type": "code",
   "execution_count": 4,
   "metadata": {
    "collapsed": true
   },
   "outputs": [
    {
     "name": "stdout",
     "output_type": "stream",
     "text": [
      "< Mouse 111 >\n"
     ]
    }
   ],
   "source": [
    "from datetime import date\n",
    "from models.mouse import Mouse\n",
    "\n",
    "mouse_111 = Mouse(111,20200519,'wild type', 'female')\n",
    "print(mouse_111)"
   ]
  },
  {
   "cell_type": "code",
   "execution_count": 3,
   "outputs": [
    {
     "ename": "NameError",
     "evalue": "name 'mouse_111' is not defined",
     "output_type": "error",
     "traceback": [
      "\u001B[0;31m---------------------------------------------------------------------------\u001B[0m",
      "\u001B[0;31mNameError\u001B[0m                                 Traceback (most recent call last)",
      "\u001B[0;32m<ipython-input-3-961fee5bf7a6>\u001B[0m in \u001B[0;36m<module>\u001B[0;34m\u001B[0m\n\u001B[1;32m      4\u001B[0m \u001B[0;34m\u001B[0m\u001B[0m\n\u001B[1;32m      5\u001B[0m \u001B[0mDatabase\u001B[0m\u001B[0;34m.\u001B[0m\u001B[0minitialize\u001B[0m\u001B[0;34m(\u001B[0m\u001B[0mdatabase\u001B[0m\u001B[0;34m=\u001B[0m\u001B[0mconstants\u001B[0m\u001B[0;34m.\u001B[0m\u001B[0mdatabase\u001B[0m\u001B[0;34m,\u001B[0m \u001B[0muser\u001B[0m\u001B[0;34m=\u001B[0m\u001B[0mconstants\u001B[0m\u001B[0;34m.\u001B[0m\u001B[0muser\u001B[0m\u001B[0;34m,\u001B[0m \u001B[0mpassword\u001B[0m\u001B[0;34m=\u001B[0m\u001B[0mconstants\u001B[0m\u001B[0;34m.\u001B[0m\u001B[0mpassword\u001B[0m\u001B[0;34m,\u001B[0m \u001B[0mhost\u001B[0m\u001B[0;34m=\u001B[0m\u001B[0mconstants\u001B[0m\u001B[0;34m.\u001B[0m\u001B[0mhost\u001B[0m\u001B[0;34m)\u001B[0m\u001B[0;34m\u001B[0m\u001B[0;34m\u001B[0m\u001B[0m\n\u001B[0;32m----> 6\u001B[0;31m \u001B[0mmouse_111\u001B[0m\u001B[0;34m.\u001B[0m\u001B[0msave_to_db\u001B[0m\u001B[0;34m(\u001B[0m\u001B[0;34m)\u001B[0m\u001B[0;34m\u001B[0m\u001B[0;34m\u001B[0m\u001B[0m\n\u001B[0m\u001B[1;32m      7\u001B[0m \u001B[0;34m\u001B[0m\u001B[0m\n\u001B[1;32m      8\u001B[0m \u001B[0;34m\u001B[0m\u001B[0m\n",
      "\u001B[0;31mNameError\u001B[0m: name 'mouse_111' is not defined"
     ]
    }
   ],
   "source": [
    "import data.constants as constants\n",
    "from database import Database\n",
    "\n",
    "\n",
    "Database.initialize(database=constants.database, user=constants.user, password=constants.password, host=constants.host)\n",
    "mouse_111.save_to_db()\n"
   ],
   "metadata": {
    "collapsed": false,
    "pycharm": {
     "name": "#%%\n"
    }
   }
  },
  {
   "cell_type": "code",
   "execution_count": 11,
   "outputs": [
    {
     "data": {
      "text/plain": "'2020'"
     },
     "execution_count": 11,
     "metadata": {},
     "output_type": "execute_result"
    }
   ],
   "source": [
    "test_tup = tuple(['2020','05','19'])\n",
    "test_tup[0]"
   ],
   "metadata": {
    "collapsed": false,
    "pycharm": {
     "name": "#%%\n"
    }
   }
  },
  {
   "cell_type": "code",
   "execution_count": 1,
   "outputs": [
    {
     "name": "stdout",
     "output_type": "stream",
     "text": [
      "No mouse in the database with eartag number 111\n"
     ]
    },
    {
     "ename": "AttributeError",
     "evalue": "'str' object has no attribute 'delete_from_db'",
     "output_type": "error",
     "traceback": [
      "\u001B[0;31m---------------------------------------------------------------------------\u001B[0m",
      "\u001B[0;31mAttributeError\u001B[0m                            Traceback (most recent call last)",
      "\u001B[0;32m<ipython-input-1-41a996e71d10>\u001B[0m in \u001B[0;36m<module>\u001B[0;34m\u001B[0m\n\u001B[1;32m      7\u001B[0m \u001B[0mload_mouse_111\u001B[0m \u001B[0;34m=\u001B[0m \u001B[0mMouse\u001B[0m\u001B[0;34m.\u001B[0m\u001B[0mfrom_db\u001B[0m\u001B[0;34m(\u001B[0m\u001B[0;36m111\u001B[0m\u001B[0;34m)\u001B[0m\u001B[0;34m\u001B[0m\u001B[0;34m\u001B[0m\u001B[0m\n\u001B[1;32m      8\u001B[0m \u001B[0mprint\u001B[0m\u001B[0;34m(\u001B[0m\u001B[0mload_mouse_111\u001B[0m\u001B[0;34m)\u001B[0m\u001B[0;34m\u001B[0m\u001B[0;34m\u001B[0m\u001B[0m\n\u001B[0;32m----> 9\u001B[0;31m \u001B[0mload_mouse_111\u001B[0m\u001B[0;34m.\u001B[0m\u001B[0mdelete_from_db\u001B[0m\u001B[0;34m(\u001B[0m\u001B[0;34m)\u001B[0m\u001B[0;34m\u001B[0m\u001B[0;34m\u001B[0m\u001B[0m\n\u001B[0m\u001B[1;32m     10\u001B[0m \u001B[0;34m\u001B[0m\u001B[0m\n",
      "\u001B[0;31mAttributeError\u001B[0m: 'str' object has no attribute 'delete_from_db'"
     ]
    }
   ],
   "source": [
    "from models.mouse import Mouse\n",
    "from database import Database\n",
    "from data import constants\n",
    "\n",
    "\n",
    "Database.initialize(database=constants.database, user=constants.user, password=constants.password, host=constants.host)\n",
    "load_mouse_111 = Mouse.from_db(111)\n",
    "print(load_mouse_111)\n",
    "load_mouse_111.delete_from_db()"
   ],
   "metadata": {
    "collapsed": false,
    "pycharm": {
     "name": "#%%\n"
    }
   }
  },
  {
   "cell_type": "code",
   "execution_count": 2,
   "outputs": [
    {
     "ename": "TypeError",
     "evalue": "'NoneType' object is not subscriptable",
     "output_type": "error",
     "traceback": [
      "\u001B[0;31m---------------------------------------------------------------------------\u001B[0m",
      "\u001B[0;31mTypeError\u001B[0m                                 Traceback (most recent call last)",
      "\u001B[0;32m<ipython-input-2-4129923db541>\u001B[0m in \u001B[0;36m<module>\u001B[0;34m\u001B[0m\n\u001B[0;32m----> 1\u001B[0;31m \u001B[0mload_mouse_111\u001B[0m \u001B[0;34m=\u001B[0m \u001B[0mMouse\u001B[0m\u001B[0;34m.\u001B[0m\u001B[0mfrom_db\u001B[0m\u001B[0;34m(\u001B[0m\u001B[0;36m111\u001B[0m\u001B[0;34m)\u001B[0m\u001B[0;34m\u001B[0m\u001B[0;34m\u001B[0m\u001B[0m\n\u001B[0m\u001B[1;32m      2\u001B[0m \u001B[0;34m\u001B[0m\u001B[0m\n",
      "\u001B[0;32m~/Documents/GitHub/thesis_project/thesis_project/models/mouse.py\u001B[0m in \u001B[0;36mfrom_db\u001B[0;34m(cls, eartag)\u001B[0m\n\u001B[1;32m     19\u001B[0m             \u001B[0mcursor\u001B[0m\u001B[0;34m.\u001B[0m\u001B[0mexecute\u001B[0m\u001B[0;34m(\u001B[0m\u001B[0;34m\"SELECT * FROM mouse WHERE eartag = %s\"\u001B[0m\u001B[0;34m,\u001B[0m \u001B[0;34m(\u001B[0m\u001B[0meartag\u001B[0m\u001B[0;34m,\u001B[0m\u001B[0;34m)\u001B[0m\u001B[0;34m)\u001B[0m\u001B[0;34m\u001B[0m\u001B[0;34m\u001B[0m\u001B[0m\n\u001B[1;32m     20\u001B[0m             \u001B[0mmouse_data\u001B[0m \u001B[0;34m=\u001B[0m \u001B[0mcursor\u001B[0m\u001B[0;34m.\u001B[0m\u001B[0mfetchone\u001B[0m\u001B[0;34m(\u001B[0m\u001B[0;34m)\u001B[0m\u001B[0;34m\u001B[0m\u001B[0;34m\u001B[0m\u001B[0m\n\u001B[0;32m---> 21\u001B[0;31m             return cls(eartag=mouse_data[1], birthdate=mouse_data[2],\n\u001B[0m\u001B[1;32m     22\u001B[0m                        genotype=util.decode_genotype(mouse_data[3]), sex=mouse_data[4], mouse_id=mouse_data[0])\n\u001B[1;32m     23\u001B[0m \u001B[0;34m\u001B[0m\u001B[0m\n",
      "\u001B[0;31mTypeError\u001B[0m: 'NoneType' object is not subscriptable"
     ]
    }
   ],
   "source": [
    "load_mouse_111 = Mouse.from_db(111)"
   ],
   "metadata": {
    "collapsed": false,
    "pycharm": {
     "name": "#%%\n"
    }
   }
  },
  {
   "cell_type": "code",
   "execution_count": 15,
   "outputs": [],
   "source": [
    "import datetime\n",
    "\n",
    "\n",
    "may182020 = datetime.date(2020, 5, 18)"
   ],
   "metadata": {
    "collapsed": false,
    "pycharm": {
     "name": "#%%\n"
    }
   }
  },
  {
   "cell_type": "code",
   "execution_count": null,
   "outputs": [],
   "source": [
    "\n"
   ],
   "metadata": {
    "collapsed": false,
    "pycharm": {
     "name": "#%%\n"
    }
   }
  }
 ],
 "metadata": {
  "kernelspec": {
   "display_name": "Python 3",
   "language": "python",
   "name": "python3"
  },
  "language_info": {
   "codemirror_mode": {
    "name": "ipython",
    "version": 2
   },
   "file_extension": ".py",
   "mimetype": "text/x-python",
   "name": "python",
   "nbconvert_exporter": "python",
   "pygments_lexer": "ipython2",
   "version": "2.7.6"
  }
 },
 "nbformat": 4,
 "nbformat_minor": 0
}