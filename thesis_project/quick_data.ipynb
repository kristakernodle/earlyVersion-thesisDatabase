{
 "cells": [
  {
   "cell_type": "markdown",
   "source": [
    "The purpose of this file is to create a graph for Dan (Dauer lab) to use in a grant.\n",
    "\n",
    "The figure that I create should express the percent of trials with reach performed out of the total trials available.\n",
    "\n",
    "I will average based on training day."
   ],
   "metadata": {
    "collapsed": false
   }
  },
  {
   "cell_type": "code",
   "execution_count": 0,
   "outputs": [],
   "source": [],
   "metadata": {
    "collapsed": false,
    "pycharm": {
     "name": "#%%\n"
    }
   }
  },
  {
   "cell_type": "code",
   "execution_count": 1,
   "metadata": {
    "pycharm": {
     "name": "#%%\n"
    }
   },
   "outputs": [],
   "source": [
    "import thesis_database\n",
    "\n",
    "project_name = 'hello'\n",
    "experiment_name='skilled-reaching'\n",
    "thesis_database.initialize_database(project_name)\n",
    "experiment = thesis_database.Experiment.from_db(experiment_name = experiment_name)\n",
    "\n",
    "# Step One: Get a list of all of the scored csv files for all reviewers\n",
    "import glob\n",
    "import csv\n",
    "from pathlib import Path"
   ]
  },
  {
   "cell_type": "code",
   "execution_count": 4,
   "outputs": [
    {
     "name": "stdout",
     "output_type": "stream",
     "text": [
      "/Users/Krista/Desktop/blindScoring/Krista_K/toScore_KK/dason1tylh/dason1tylh_R43.mp4\n",
      "/Users/Krista/Desktop/blindScoring/Krista_K/toScore_KK/dason1tylh/dason1tylh_R44.mp4\n",
      "/Users/Krista/Desktop/blindScoring/Krista_K/toScore_KK/dason1tylh/dason1tylh_R45.mp4\n",
      "/Users/Krista/Desktop/blindScoring/Krista_K/toScore_KK/jwxud1qywq/jwxud1qywq_R44.mp4\n",
      "/Users/Krista/Desktop/blindScoring/Krista_K/toScore_KK/jxrr8n27ck/jxrr8n27ck_R43.mp4\n",
      "/Users/Krista/Desktop/blindScoring/Krista_K/toScore_KK/xu8imx3s7j/xu8imx3s7j_R01.mp4\n",
      "/Users/Krista/Desktop/blindScoring/Krista_K/toScore_KK/xu8imx3s7j/xu8imx3s7j_R02.mp4\n",
      "/Users/Krista/Desktop/blindScoring/Krista_K/toScore_KK/xu8imx3s7j/xu8imx3s7j_R03.mp4\n",
      "/Users/Krista/Desktop/blindScoring/Krista_K/toScore_KK/xu8imx3s7j/xu8imx3s7j_R04.mp4\n",
      "/Users/Krista/Desktop/blindScoring/Krista_K/toScore_KK/xu8imx3s7j/xu8imx3s7j_R05.mp4\n",
      "/Users/Krista/Desktop/blindScoring/Krista_K/toScore_KK/xu8imx3s7j/xu8imx3s7j_R06.mp4\n",
      "/Users/Krista/Desktop/blindScoring/Krista_K/toScore_KK/xu8imx3s7j/xu8imx3s7j_R07.mp4\n",
      "/Users/Krista/Desktop/blindScoring/Krista_K/toScore_KK/xu8imx3s7j/xu8imx3s7j_R08.mp4\n",
      "/Users/Krista/Desktop/blindScoring/Krista_K/toScore_KK/xu8imx3s7j/xu8imx3s7j_R09.mp4\n",
      "/Users/Krista/Desktop/blindScoring/Krista_K/toScore_KK/xu8imx3s7j/xu8imx3s7j_R10.mp4\n",
      "/Users/Krista/Desktop/blindScoring/Krista_K/toScore_KK/xu8imx3s7j/xu8imx3s7j_R11.mp4\n",
      "/Users/Krista/Desktop/blindScoring/Krista_K/toScore_KK/xu8imx3s7j/xu8imx3s7j_R12.mp4\n",
      "/Users/Krista/Desktop/blindScoring/Krista_K/toScore_KK/xu8imx3s7j/xu8imx3s7j_R13.mp4\n",
      "/Users/Krista/Desktop/blindScoring/Krista_K/toScore_KK/xu8imx3s7j/xu8imx3s7j_R14.mp4\n",
      "/Users/Krista/Desktop/blindScoring/Krista_K/toScore_KK/xu8imx3s7j/xu8imx3s7j_R15.mp4\n",
      "/Users/Krista/Desktop/blindScoring/Krista_K/toScore_KK/xu8imx3s7j/xu8imx3s7j_R16.mp4\n",
      "/Users/Krista/Desktop/blindScoring/Krista_K/toScore_KK/xu8imx3s7j/xu8imx3s7j_R17.mp4\n",
      "/Users/Krista/Desktop/blindScoring/Krista_K/toScore_KK/xu8imx3s7j/xu8imx3s7j_R18.mp4\n",
      "/Users/Krista/Desktop/blindScoring/Krista_K/toScore_KK/xu8imx3s7j/xu8imx3s7j_R19.mp4\n",
      "/Users/Krista/Desktop/blindScoring/Krista_K/toScore_KK/xu8imx3s7j/xu8imx3s7j_R20.mp4\n",
      "/Users/Krista/Desktop/blindScoring/Krista_K/toScore_KK/xu8imx3s7j/xu8imx3s7j_R21.mp4\n",
      "/Users/Krista/Desktop/blindScoring/Krista_K/toScore_KK/xu8imx3s7j/xu8imx3s7j_R22.mp4\n",
      "/Users/Krista/Desktop/blindScoring/Krista_K/toScore_KK/xu8imx3s7j/xu8imx3s7j_R23.mp4\n",
      "/Users/Krista/Desktop/blindScoring/Krista_K/toScore_KK/xu8imx3s7j/xu8imx3s7j_R24.mp4\n",
      "/Users/Krista/Desktop/blindScoring/Krista_K/toScore_KK/xu8imx3s7j/xu8imx3s7j_R25.mp4\n",
      "/Users/Krista/Desktop/blindScoring/Krista_K/toScore_KK/xu8imx3s7j/xu8imx3s7j_R26.mp4\n",
      "/Users/Krista/Desktop/blindScoring/Krista_K/toScore_KK/xu8imx3s7j/xu8imx3s7j_R27.mp4\n",
      "/Users/Krista/Desktop/blindScoring/Krista_K/toScore_KK/xu8imx3s7j/xu8imx3s7j_R28.mp4\n",
      "/Users/Krista/Desktop/blindScoring/Krista_K/toScore_KK/xu8imx3s7j/xu8imx3s7j_R29.mp4\n",
      "/Users/Krista/Desktop/blindScoring/Krista_K/toScore_KK/xu8imx3s7j/xu8imx3s7j_R30.mp4\n",
      "/Users/Krista/Desktop/blindScoring/Krista_K/toScore_KK/xu8imx3s7j/xu8imx3s7j_R31.mp4\n",
      "/Users/Krista/Desktop/blindScoring/Krista_K/toScore_KK/xu8imx3s7j/xu8imx3s7j_R32.mp4\n",
      "/Users/Krista/Desktop/blindScoring/Krista_K/toScore_KK/xu8imx3s7j/xu8imx3s7j_R33.mp4\n",
      "/Users/Krista/Desktop/blindScoring/Krista_K/toScore_KK/xu8imx3s7j/xu8imx3s7j_R34.mp4\n",
      "/Users/Krista/Desktop/blindScoring/Krista_K/toScore_KK/xu8imx3s7j/xu8imx3s7j_R35.mp4\n",
      "/Users/Krista/Desktop/blindScoring/Krista_K/toScore_KK/xu8imx3s7j/xu8imx3s7j_R36.mp4\n",
      "/Users/Krista/Desktop/blindScoring/Krista_K/toScore_KK/xu8imx3s7j/xu8imx3s7j_R37.mp4\n",
      "/Users/Krista/Desktop/blindScoring/Krista_K/toScore_KK/xu8imx3s7j/xu8imx3s7j_R38.mp4\n",
      "/Users/Krista/Desktop/blindScoring/Krista_K/toScore_KK/xu8imx3s7j/xu8imx3s7j_R39.mp4\n",
      "/Users/Krista/Desktop/blindScoring/Krista_K/toScore_KK/xu8imx3s7j/xu8imx3s7j_R40.mp4\n",
      "/Users/Krista/Desktop/blindScoring/Krista_K/toScore_KK/xu8imx3s7j/xu8imx3s7j_R41.mp4\n",
      "/Users/Krista/Desktop/blindScoring/Krista_K/toScore_KK/xu8imx3s7j/xu8imx3s7j_R42.mp4\n",
      "/Users/Krista/Desktop/blindScoring/Krista_K/toScore_KK/xu8imx3s7j/xu8imx3s7j_R43.mp4\n",
      "/Users/Krista/Desktop/blindScoring/Krista_K/toScore_KK/nc334s00ek/nc334s00ek_R01.mp4\n",
      "/Users/Krista/Desktop/blindScoring/Krista_K/toScore_KK/nc334s00ek/nc334s00ek_R02.mp4\n",
      "/Users/Krista/Desktop/blindScoring/Krista_K/toScore_KK/nc334s00ek/nc334s00ek_R03.mp4\n",
      "/Users/Krista/Desktop/blindScoring/Krista_K/toScore_KK/nc334s00ek/nc334s00ek_R04.mp4\n",
      "/Users/Krista/Desktop/blindScoring/Krista_K/toScore_KK/nc334s00ek/nc334s00ek_R05.mp4\n",
      "/Users/Krista/Desktop/blindScoring/Krista_K/toScore_KK/nc334s00ek/nc334s00ek_R06.mp4\n",
      "/Users/Krista/Desktop/blindScoring/Krista_K/toScore_KK/nc334s00ek/nc334s00ek_R07.mp4\n",
      "/Users/Krista/Desktop/blindScoring/Krista_K/toScore_KK/nc334s00ek/nc334s00ek_R08.mp4\n",
      "/Users/Krista/Desktop/blindScoring/Krista_K/toScore_KK/nc334s00ek/nc334s00ek_R09.mp4\n",
      "/Users/Krista/Desktop/blindScoring/Krista_K/toScore_KK/nc334s00ek/nc334s00ek_R10.mp4\n",
      "/Users/Krista/Desktop/blindScoring/Krista_K/toScore_KK/nc334s00ek/nc334s00ek_R11.mp4\n",
      "/Users/Krista/Desktop/blindScoring/Krista_K/toScore_KK/nc334s00ek/nc334s00ek_R12.mp4\n",
      "/Users/Krista/Desktop/blindScoring/Krista_K/toScore_KK/nc334s00ek/nc334s00ek_R13.mp4\n",
      "/Users/Krista/Desktop/blindScoring/Krista_K/toScore_KK/nc334s00ek/nc334s00ek_R14.mp4\n",
      "/Users/Krista/Desktop/blindScoring/Krista_K/toScore_KK/nc334s00ek/nc334s00ek_R15.mp4\n",
      "/Users/Krista/Desktop/blindScoring/Krista_K/toScore_KK/nc334s00ek/nc334s00ek_R16.mp4\n",
      "/Users/Krista/Desktop/blindScoring/Krista_K/toScore_KK/nc334s00ek/nc334s00ek_R17.mp4\n",
      "/Users/Krista/Desktop/blindScoring/Krista_K/toScore_KK/nc334s00ek/nc334s00ek_R18.mp4\n",
      "/Users/Krista/Desktop/blindScoring/Krista_K/toScore_KK/nc334s00ek/nc334s00ek_R19.mp4\n",
      "/Users/Krista/Desktop/blindScoring/Krista_K/toScore_KK/nc334s00ek/nc334s00ek_R20.mp4\n",
      "/Users/Krista/Desktop/blindScoring/Krista_K/toScore_KK/nc334s00ek/nc334s00ek_R21.mp4\n",
      "/Users/Krista/Desktop/blindScoring/Krista_K/toScore_KK/nc334s00ek/nc334s00ek_R22.mp4\n",
      "/Users/Krista/Desktop/blindScoring/Krista_K/toScore_KK/nc334s00ek/nc334s00ek_R23.mp4\n",
      "/Users/Krista/Desktop/blindScoring/Krista_K/toScore_KK/nc334s00ek/nc334s00ek_R24.mp4\n",
      "/Users/Krista/Desktop/blindScoring/Krista_K/toScore_KK/nc334s00ek/nc334s00ek_R25.mp4\n",
      "/Users/Krista/Desktop/blindScoring/Krista_K/toScore_KK/nc334s00ek/nc334s00ek_R26.mp4\n",
      "/Users/Krista/Desktop/blindScoring/Krista_K/toScore_KK/nc334s00ek/nc334s00ek_R27.mp4\n",
      "/Users/Krista/Desktop/blindScoring/Krista_K/toScore_KK/nc334s00ek/nc334s00ek_R28.mp4\n",
      "/Users/Krista/Desktop/blindScoring/Krista_K/toScore_KK/nc334s00ek/nc334s00ek_R29.mp4\n",
      "/Users/Krista/Desktop/blindScoring/Krista_K/toScore_KK/nc334s00ek/nc334s00ek_R30.mp4\n",
      "/Users/Krista/Desktop/blindScoring/Krista_K/toScore_KK/nc334s00ek/nc334s00ek_R31.mp4\n",
      "/Users/Krista/Desktop/blindScoring/Krista_K/toScore_KK/nc334s00ek/nc334s00ek_R32.mp4\n",
      "/Users/Krista/Desktop/blindScoring/Krista_K/toScore_KK/nc334s00ek/nc334s00ek_R33.mp4\n",
      "/Users/Krista/Desktop/blindScoring/Krista_K/toScore_KK/nc334s00ek/nc334s00ek_R34.mp4\n",
      "/Users/Krista/Desktop/blindScoring/Krista_K/toScore_KK/nc334s00ek/nc334s00ek_R35.mp4\n",
      "/Users/Krista/Desktop/blindScoring/Krista_K/toScore_KK/nc334s00ek/nc334s00ek_R36.mp4\n",
      "/Users/Krista/Desktop/blindScoring/Krista_K/toScore_KK/nc334s00ek/nc334s00ek_R37.mp4\n",
      "/Users/Krista/Desktop/blindScoring/Krista_K/toScore_KK/nc334s00ek/nc334s00ek_R38.mp4\n",
      "/Users/Krista/Desktop/blindScoring/Krista_K/toScore_KK/nc334s00ek/nc334s00ek_R39.mp4\n",
      "/Users/Krista/Desktop/blindScoring/Krista_K/toScore_KK/nc334s00ek/nc334s00ek_R40.mp4\n",
      "/Users/Krista/Desktop/blindScoring/Krista_K/toScore_KK/nc334s00ek/nc334s00ek_R41.mp4\n",
      "/Users/Krista/Desktop/blindScoring/Krista_K/toScore_KK/nc334s00ek/nc334s00ek_R42.mp4\n",
      "/Volumes/SharedX/Neuro-Leventhal/data/mouseSkilledReaching/blindedScoring/Krista_K/Scored_KK/2qwhhy1n63_KK.csv\n",
      "/Users/Krista/Desktop/blindScoring/Krista_K/toScore_KK/guk5sh2bw2/guk5sh2bw2_R45.mp4\n",
      "/Volumes/SharedX/Neuro-Leventhal/data/mouseSkilledReaching/blindedScoring/Jen_M/toScore_JM/2wcqo0j94o/2wcqo0j94o_R38.mp4\n",
      "/Volumes/SharedX/Neuro-Leventhal/data/mouseSkilledReaching/blindedScoring/Jen_M/toScore_JM/2wcqo0j94o/2wcqo0j94o_R39.mp4\n",
      "/Volumes/SharedX/Neuro-Leventhal/data/mouseSkilledReaching/blindedScoring/Jen_M/toScore_JM/2wcqo0j94o/2wcqo0j94o_R40.mp4\n",
      "/Volumes/SharedX/Neuro-Leventhal/data/mouseSkilledReaching/blindedScoring/Jen_M/toScore_JM/2wcqo0j94o/2wcqo0j94o_R41.mp4\n",
      "/Volumes/SharedX/Neuro-Leventhal/data/mouseSkilledReaching/blindedScoring/Jen_M/toScore_JM/2wcqo0j94o/2wcqo0j94o_R42.mp4\n",
      "/Volumes/SharedX/Neuro-Leventhal/data/mouseSkilledReaching/blindedScoring/Jen_M/toScore_JM/2wcqo0j94o/2wcqo0j94o_R43.mp4\n"
     ]
    }
   ],
   "source": [
    "all_scored_csv = list()\n",
    "for reviewer_id in thesis_database.tools.get.list_reviewer_ids():\n",
    "    reviewer = thesis_database.Reviewer.from_db(reviewer_id=reviewer_id)\n",
    "    this_reviewer_scored_csvs = glob.glob(f\"{reviewer.scored_dir}/*.csv\")\n",
    "    for a_scored_csv in this_reviewer_scored_csvs:\n",
    "        csv_filename = a_scored_csv.split('/')[-1]\n",
    "        blind_name = csv_filename.split('_')[0]\n",
    "        with open(a_scored_csv) as f:\n",
    "            csv_reader = csv.reader(f)\n",
    "            next(csv_reader)\n",
    "            for item in csv_reader:\n",
    "                if len(item) < 4:\n",
    "                    print(a_scored_csv)\n",
    "                    continue\n",
    "                elif len(item) > 4:\n",
    "                    item = item[:4]\n",
    "                blind_trial_num, reach_score, abnormal_movt_score, grooming_score = item\n",
    "                if len(blind_trial_num) < 2:\n",
    "                    blind_trial_num = f'0{blind_trial_num}'\n",
    "                full_path = f\"{reviewer.toScore_dir}/{blind_name}/{blind_name}_R{blind_trial_num}.mp4\"\n",
    "                all_full_paths = thesis_database.tools.get.list_all_blinded_trial_full_paths_for_reviewer_experiment(reviewer, experiment)\n",
    "                for path in all_full_paths:\n",
    "                    if full_path in path:\n",
    "                        blind_trial = thesis_database.BlindTrial.from_db(full_path=path)\n",
    "                        trial = thesis_database.Trial.from_db(trial_id=blind_trial.trial_id)\n",
    "                        trial_num = int( Path(trial.trial_dir).stem.split('_R')[-1] )\n",
    "                        if len(reach_score) < 1:\n",
    "                            print(path)\n",
    "                            break\n",
    "                        thesis_database.TrialScore(trial.trial_id, reviewer.reviewer_id, int(trial_num), int(reach_score),\n",
    "                                                   bool(abnormal_movt_score), bool(grooming_score)).save_to_db()\n",
    "    all_scored_csv.extend(this_reviewer_scored_csvs)\n"
   ],
   "metadata": {
    "collapsed": false,
    "pycharm": {
     "name": "#%%\n"
    }
   }
  },
  {
   "cell_type": "code",
   "execution_count": 19,
   "outputs": [],
   "source": [
    "# Add session numbers from session_dir\n",
    "for session_dir in thesis_database.tools.get.list_all_session_dir_for_experiment(experiment):\n",
    "    session = thesis_database.Session.from_db(session_dir=session_dir)\n",
    "    session_dir_split = session_dir.split('T')\n",
    "    if len(session_dir_split) > 3:\n",
    "        session_num = session_dir_split[-2].split('-')[0]\n",
    "    else:\n",
    "        session_num = session_dir_split[-1]\n",
    "    session.session_num = session_num\n",
    "    session.save_to_db()"
   ],
   "metadata": {
    "collapsed": false,
    "pycharm": {
     "name": "#%%\n"
    }
   }
  },
  {
   "cell_type": "code",
   "execution_count": null,
   "outputs": [],
   "source": [],
   "metadata": {
    "collapsed": false,
    "pycharm": {
     "name": "#%%\n"
    }
   }
  }
 ],
 "metadata": {
  "kernelspec": {
   "display_name": "Python 3",
   "language": "python",
   "name": "python3"
  },
  "language_info": {
   "codemirror_mode": {
    "name": "ipython",
    "version": 3
   },
   "file_extension": ".py",
   "mimetype": "text/x-python",
   "name": "python",
   "nbconvert_exporter": "python",
   "pygments_lexer": "ipython3",
   "version": "3.7.7"
  }
 },
 "nbformat": 4,
 "nbformat_minor": 1
}