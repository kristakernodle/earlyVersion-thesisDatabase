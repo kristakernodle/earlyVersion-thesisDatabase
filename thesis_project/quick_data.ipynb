{
 "cells": [
  {
   "cell_type": "markdown",
   "source": [
    "The purpose of this file is to create a graph for Dan (Dauer lab) to use in a grant.\n",
    "\n",
    "The figure that I create should express the percent of trials with reach performed out of the total trials available.\n",
    "\n",
    "I will average based on training day."
   ],
   "metadata": {
    "collapsed": false
   }
  },
  {
   "cell_type": "code",
   "execution_count": null,
   "outputs": [],
   "source": [],
   "metadata": {
    "collapsed": false,
    "pycharm": {
     "name": "#%%\n"
    }
   }
  },
  {
   "cell_type": "code",
   "execution_count": 1,
   "metadata": {},
   "outputs": [],
   "source": [
    "import thesis_database\n",
    "\n",
    "project_name = 'hello'\n",
    "experiment_name='skilled-reaching'\n",
    "thesis_database.initialize_database(project_name)\n",
    "experiment = thesis_database.Experiment.from_db(experiment_name = experiment_name)\n",
    "\n",
    "# Step One: Get a list of all of the scored csv files for all reviewers\n",
    "import glob\n",
    "all_scored_csv = list()\n",
    "for reviewer_id in thesis_database.tools.get.list_reviewer_ids():\n",
    "    reviewer = thesis_database.Reviewer.from_db(reviewer_id=reviewer_id)\n",
    "    all_scored_csv.extend(glob.glob(f\"{reviewer.scored_dir}/*.csv\"))\n",
    "a_scored_csv = all_scored_csv[0]\n",
    "reviewer = thesis_database.Reviewer.from_db(reviewer_fullname='Krista K')\n",
    "csv_filename = a_scored_csv.split('/')[-1]\n",
    "blind_name = csv_filename.split('_')[0]\n",
    "\n",
    "import csv\n",
    "with open(a_scored_csv) as f:\n",
    "    csv_reader = csv.reader(f)\n",
    "    next(csv_reader)\n",
    "    for item in csv_reader:\n",
    "        blind_trial_num, reach_success_score, abnormal_movement_binary, grooming_binary = item\n",
    "        if len(blind_trial_num) < 2:\n",
    "            blind_trial_num = f'0{blind_trial_num}'\n",
    "        full_path = f\"{reviewer.toScore_dir}/{blind_name}/{blind_name}_R{blind_trial_num}.mp4\"\n",
    "        all_full_paths = thesis_database.tools.get.list_all_blinded_trial_full_paths_for_reviewer_experiment(reviewer, experiment)\n",
    "        for path in all_full_paths:\n",
    "            if full_path in path:\n",
    "                blind_trial = thesis_database.BlindTrial.from_db(full_path=path)\n",
    "                thesis_database.TrialScore(blind_trial.trial_id, reach_success_score, abnormal_movement_binary,\n",
    "                                           grooming_binary).save_to_db()\n",
    "\n"
   ]
  },
  {
   "cell_type": "code",
   "execution_count": 6,
   "outputs": [
    {
     "name": "stdout",
     "output_type": "stream",
     "text": [
      "/Users/Krista/Desktop/blindScoring/Krista_K/toScore_KK/nptk1a0ka6/nptk1a0ka6_01.mp4\n"
     ]
    }
   ],
   "source": [
    "print(full_path)"
   ],
   "metadata": {
    "collapsed": false,
    "pycharm": {
     "name": "#%%\n"
    }
   }
  },
  {
   "cell_type": "code",
   "execution_count": 6,
   "metadata": {},
   "outputs": [],
   "source": []
  },
  {
   "cell_type": "code",
   "execution_count": 6,
   "metadata": {},
   "outputs": [],
   "source": []
  }
 ],
 "metadata": {
  "kernelspec": {
   "display_name": "Python 3",
   "language": "python",
   "name": "python3"
  },
  "language_info": {
   "codemirror_mode": {
    "name": "ipython",
    "version": 3
   },
   "file_extension": ".py",
   "mimetype": "text/x-python",
   "name": "python",
   "nbconvert_exporter": "python",
   "pygments_lexer": "ipython3",
   "version": "3.7.7"
  }
 },
 "nbformat": 4,
 "nbformat_minor": 1
}