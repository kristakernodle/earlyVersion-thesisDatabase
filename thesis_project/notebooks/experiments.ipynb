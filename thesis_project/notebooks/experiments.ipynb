{
 "cells": [
  {
   "cell_type": "code",
   "execution_count": 1,
   "metadata": {
    "collapsed": true
   },
   "outputs": [],
   "source": [
    "from database import Database\n",
    "import data.constants as constants\n",
    "from models.experiments import Experiments\n",
    "\n",
    "\n",
    "Database.initialize(database=constants.database, user=constants.user, password=constants.password, host=constants.host)\n",
    "\n",
    "experiment = 'skilled-reaching'\n",
    "sr_exp = Experiments.from_db(experiment)\n"
   ]
  }
 ],
 "metadata": {
  "kernelspec": {
   "display_name": "Python 3",
   "language": "python",
   "name": "python3"
  },
  "language_info": {
   "codemirror_mode": {
    "name": "ipython",
    "version": 2
   },
   "file_extension": ".py",
   "mimetype": "text/x-python",
   "name": "python",
   "nbconvert_exporter": "python",
   "pygments_lexer": "ipython2",
   "version": "2.7.6"
  }
 },
 "nbformat": 4,
 "nbformat_minor": 0
}