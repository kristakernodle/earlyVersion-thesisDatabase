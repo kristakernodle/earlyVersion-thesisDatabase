{
 "cells": [
  {
   "cell_type": "markdown",
   "source": [
    "Start the database"
   ],
   "metadata": {
    "collapsed": false
   }
  },
  {
   "cell_type": "code",
   "execution_count": 1,
   "metadata": {
    "collapsed": true
   },
   "outputs": [],
   "source": [
    "from database.database import Database\n",
    "from data.constants import dbDetails, dbUser_Krista\n",
    "Database.initialize(**dbDetails, **dbUser_Krista)"
   ]
  },
  {
   "cell_type": "markdown",
   "source": [
    "Set up variables"
   ],
   "metadata": {
    "collapsed": false,
    "pycharm": {
     "name": "#%% md\n"
    }
   }
  },
  {
   "cell_type": "code",
   "execution_count": 2,
   "outputs": [],
   "source": [
    "experiment_name = 'grooming'\n",
    "reviewer_name = 'Krista K'"
   ],
   "metadata": {
    "collapsed": false,
    "pycharm": {
     "name": "#%%\n"
    }
   }
  },
  {
   "cell_type": "markdown",
   "source": [
    "Pull in information from database"
   ],
   "metadata": {
    "collapsed": false,
    "pycharm": {
     "name": "#%% md\n"
    }
   }
  },
  {
   "cell_type": "code",
   "execution_count": 3,
   "outputs": [],
   "source": [
    "from models.experiments import Experiment\n",
    "from models.participant_details import ParticipantDetails\n",
    "from models.reviewers import Reviewer\n",
    "\n",
    "experiment = Experiment.from_db(experiment_name=experiment_name)\n",
    "reviewer = Reviewer.from_db(reviewer_fullname=reviewer_name)"
   ],
   "metadata": {
    "collapsed": false,
    "pycharm": {
     "name": "#%%\n"
    }
   }
  },
  {
   "cell_type": "code",
   "execution_count": 4,
   "outputs": [
    {
     "name": "stdout",
     "output_type": "stream",
     "text": [
      "No mouse in the database with mouse number 7044\n",
      "No mouse in the database with mouse number 7068\n",
      "No mouse in the database with mouse number 7025\n",
      "No mouse in the database with mouse number 7076\n",
      "No mouse in the database with mouse number 747\n",
      "No mouse in the database with mouse number 7035\n",
      "No mouse in the database with mouse number 750\n"
     ]
    }
   ],
   "source": [
    "from database.update_database.update_from_data_dirs import update_from_data_dirs\n",
    "update_from_data_dirs(experiment)\n"
   ],
   "metadata": {
    "collapsed": false,
    "pycharm": {
     "name": "#%%\n"
    }
   }
  },
  {
   "cell_type": "markdown",
   "source": [
    "Get all participants in experiment"
   ],
   "metadata": {
    "collapsed": false,
    "pycharm": {
     "name": "#%% md\n"
    }
   }
  },
  {
   "cell_type": "code",
   "execution_count": 5,
   "outputs": [],
   "source": [
    "from models.mouse import Mouse\n",
    "\n",
    "participant_ids = ParticipantDetails.list_participants(experiment_name)\n",
    "mice_in_exp = list()\n",
    "for participant_id in participant_ids:\n",
    "    mice_in_exp.append(Mouse.from_db_by_id(participant_id))"
   ],
   "metadata": {
    "collapsed": false,
    "pycharm": {
     "name": "#%%\n"
    }
   }
  },
  {
   "cell_type": "markdown",
   "source": [
    "Separate by genotype into two lists"
   ],
   "metadata": {
    "collapsed": false,
    "pycharm": {
     "name": "#%% md\n"
    }
   }
  },
  {
   "cell_type": "code",
   "execution_count": 6,
   "outputs": [],
   "source": [
    "control_mice = list()\n",
    "knockout_mice = list()\n",
    "for mouse in mice_in_exp:\n",
    "    if mouse.genotype == 'wild type':\n",
    "        control_mice.append(mouse)\n",
    "    else:\n",
    "        knockout_mice.append(mouse)"
   ],
   "metadata": {
    "collapsed": false,
    "pycharm": {
     "name": "#%%\n"
    }
   }
  },
  {
   "cell_type": "markdown",
   "source": [
    "I want to exclude some animals, here is the current list\n",
    "\n",
    "7081: Missing 2 days of grooming (G3 & G4)\n",
    "749, 7025, 7035, 7044, 7068, 7076: Missing after SR grooming (G4)"
   ],
   "metadata": {
    "collapsed": false
   }
  },
  {
   "cell_type": "code",
   "execution_count": 7,
   "outputs": [],
   "source": [
    "exclude = [7081, 749, 7025, 7035, 7044, 7068, 7076]"
   ],
   "metadata": {
    "collapsed": false,
    "pycharm": {
     "name": "#%%\n"
    }
   }
  },
  {
   "cell_type": "markdown",
   "source": [
    "Randomly select 5 animals from each group for review"
   ],
   "metadata": {
    "collapsed": false,
    "pycharm": {
     "name": "#%% md\n"
    }
   }
  },
  {
   "cell_type": "code",
   "execution_count": 8,
   "outputs": [],
   "source": [
    "knockout_mice_for_analysis = list()\n",
    "control_mice_for_analysis = list()\n",
    "while len(knockout_mice_for_analysis) < 5:\n",
    "    if len(knockout_mice) == 0:\n",
    "        break\n",
    "    mouse = knockout_mice.pop()\n",
    "    while mouse.eartag in exclude:\n",
    "        if len(knockout_mice) == 0:\n",
    "            break\n",
    "        mouse = knockout_mice.pop()\n",
    "    knockout_mice_for_analysis.append(mouse.eartag)\n",
    "while len(control_mice_for_analysis) < 5:\n",
    "    if len(control_mice) == 0:\n",
    "        mouse = None\n",
    "        break\n",
    "    mouse = control_mice.pop()\n",
    "    while mouse.eartag in exclude:\n",
    "        if len(control_mice) == 0:\n",
    "            mouse = None\n",
    "            break\n",
    "        mouse = control_mice.pop()\n",
    "    control_mice_for_analysis.append(mouse.eartag)\n"
   ],
   "metadata": {
    "collapsed": false,
    "pycharm": {
     "name": "#%%\n"
    }
   }
  },
  {
   "cell_type": "code",
   "execution_count": 9,
   "outputs": [],
   "source": [
    "all_mice_in_grooming = set(control_mice_for_analysis).union(set(knockout_mice_for_analysis))"
   ],
   "metadata": {
    "collapsed": false,
    "pycharm": {
     "name": "#%%\n"
    }
   }
  },
  {
   "cell_type": "markdown",
   "source": [
    "MICE SELECTED ON 20200814"
   ],
   "metadata": {
    "collapsed": false
   }
  },
  {
   "cell_type": "code",
   "execution_count": 11,
   "outputs": [
    {
     "name": "stdout",
     "output_type": "stream",
     "text": [
      "{7169, 7043, 7014, 745, 7061, 7062, 7063, 7064, 7065, 7166}\n"
     ]
    }
   ],
   "source": [
    "print(all_mice_in_grooming)"
   ],
   "metadata": {
    "collapsed": false,
    "pycharm": {
     "name": "#%%\n"
    }
   }
  }
 ],
 "metadata": {
  "kernelspec": {
   "display_name": "Python 3",
   "language": "python",
   "name": "python3"
  },
  "language_info": {
   "codemirror_mode": {
    "name": "ipython",
    "version": 2
   },
   "file_extension": ".py",
   "mimetype": "text/x-python",
   "name": "python",
   "nbconvert_exporter": "python",
   "pygments_lexer": "ipython2",
   "version": "2.7.6"
  }
 },
 "nbformat": 4,
 "nbformat_minor": 0
}