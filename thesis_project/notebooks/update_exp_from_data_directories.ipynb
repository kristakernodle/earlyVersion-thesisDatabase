{
 "cells": [
  {
   "cell_type": "code",
   "execution_count": 1,
   "metadata": {
    "collapsed": true
   },
   "outputs": [],
   "source": [
    "from database.database import Database\n",
    "from data.constants import dbConnection_Krista\n",
    "from models.experiments import Experiments\n",
    "from models.mouse import Mouse\n",
    "from pathlib import Path\n",
    "import pathlib"
   ]
  },
  {
   "cell_type": "code",
   "execution_count": 2,
   "outputs": [],
   "source": [
    "Database.initialize(**dbConnection_Krista)\n",
    "\n",
    "experiment = 'skilled reaching'\n",
    "sr_exp = Experiments.from_db(experiment)"
   ],
   "metadata": {
    "collapsed": false,
    "pycharm": {
     "name": "#%%\n"
    }
   }
  },
  {
   "cell_type": "code",
   "execution_count": 3,
   "outputs": [],
   "source": [
    "# Get all of the participants FROM THE DATA DIRECTORY for the specified experiment\n",
    "all_participant_dirs = list(Path(sr_exp.experiment_dir).glob('et*/'))\n",
    "all_participants = []\n",
    "for mouse_dir in all_participant_dirs:\n",
    "    if not mouse_dir.is_dir():\n",
    "        continue\n",
    "    eartag_info = mouse_dir.stem\n",
    "    eartag = int(eartag_info.strip('et'))\n",
    "    all_participants.append(Mouse.from_db(eartag))"
   ],
   "metadata": {
    "collapsed": false,
    "pycharm": {
     "name": "#%%\n"
    }
   }
  },
  {
   "cell_type": "code",
   "execution_count": 4,
   "outputs": [],
   "source": [
    "from models.participant_details import ParticipantDetails\n",
    "\n",
    "# Get all of the participants FROM THE DATABASE for the specified experiment\n",
    "participants_in_db = ParticipantDetails.list_participants(sr_exp.experiment_name)"
   ],
   "metadata": {
    "collapsed": false,
    "pycharm": {
     "name": "#%%\n"
    }
   }
  },
  {
   "cell_type": "code",
   "execution_count": 6,
   "outputs": [],
   "source": [
    "# Populate participant details, based on what is currently in the database\n",
    "for mouse in all_participants:\n",
    "    if mouse.eartag in participants_in_db:\n",
    "        continue\n",
    "    ParticipantDetails(mouse, sr_exp).save_to_db()"
   ],
   "metadata": {
    "collapsed": false,
    "pycharm": {
     "name": "#%%\n"
    }
   }
  },
  {
   "cell_type": "code",
   "execution_count": 7,
   "outputs": [],
   "source": [
    "new_participants_in_db = ParticipantDetails.list_participants(sr_exp.experiment_name)"
   ],
   "metadata": {
    "collapsed": false,
    "pycharm": {
     "name": "#%%\n"
    }
   }
  },
  {
   "cell_type": "markdown",
   "source": [
    "At this point, the Participant Details table for the Skilled Reaching experiment is seeded!!\n"
   ],
   "metadata": {
    "collapsed": false,
    "pycharm": {
     "name": "#%% md\n"
    }
   }
  },
  {
   "cell_type": "code",
   "execution_count": null,
   "outputs": [],
   "source": [],
   "metadata": {
    "collapsed": false,
    "pycharm": {
     "name": "#%%\n"
    }
   }
  }
 ],
 "metadata": {
  "kernelspec": {
   "display_name": "Python 3",
   "language": "python",
   "name": "python3"
  },
  "language_info": {
   "codemirror_mode": {
    "name": "ipython",
    "version": 2
   },
   "file_extension": ".py",
   "mimetype": "text/x-python",
   "name": "python",
   "nbconvert_exporter": "python",
   "pygments_lexer": "ipython2",
   "version": "2.7.6"
  }
 },
 "nbformat": 4,
 "nbformat_minor": 0
}