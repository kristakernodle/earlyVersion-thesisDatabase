{
 "cells": [
  {
   "cell_type": "code",
   "execution_count": 1,
   "metadata": {
    "collapsed": true
   },
   "outputs": [],
   "source": [
    "from database.database import Database\n",
    "from data.constants import dbDetails, dbUser_Krista\n",
    "from models.experiments import Experiment\n",
    "from models.mouse import Mouse\n",
    "from pathlib import Path\n"
   ]
  },
  {
   "cell_type": "code",
   "execution_count": 2,
   "outputs": [],
   "source": [
    "Database.initialize(**dbDetails, **dbUser_Krista)\n",
    "\n",
    "experiment = 'skilled reaching'\n",
    "sr_exp = Experiment.from_db(experiment)"
   ],
   "metadata": {
    "collapsed": false,
    "pycharm": {
     "name": "#%%\n"
    }
   }
  },
  {
   "cell_type": "code",
   "execution_count": 3,
   "outputs": [],
   "source": [
    "# Get all of the participants FROM THE DATA DIRECTORY for the specified experiment\n",
    "all_participant_dirs = list(Path(sr_exp.experiment_dir).glob('et*/'))\n",
    "all_participants = []\n",
    "for mouse_dir in all_participant_dirs:\n",
    "    if not mouse_dir.is_dir():\n",
    "        continue\n",
    "    eartag_info = mouse_dir.stem\n",
    "    eartag = int(eartag_info.strip('et'))\n",
    "    all_participants.append(Mouse.from_db(eartag))"
   ],
   "metadata": {
    "collapsed": false,
    "pycharm": {
     "name": "#%%\n"
    }
   }
  },
  {
   "cell_type": "code",
   "execution_count": 4,
   "outputs": [],
   "source": [
    "from models.participant_details import ParticipantDetails\n",
    "\n",
    "# Get all of the participants FROM THE DATABASE for the specified experiment\n",
    "participants_in_db = ParticipantDetails.list_participants(sr_exp.experiment_name)"
   ],
   "metadata": {
    "collapsed": false,
    "pycharm": {
     "name": "#%%\n"
    }
   }
  },
  {
   "cell_type": "code",
   "execution_count": 6,
   "outputs": [],
   "source": [
    "# Populate participant details, based on what is currently in the database\n",
    "for mouse in all_participants:\n",
    "    if mouse.eartag in participants_in_db:\n",
    "        continue\n",
    "    ParticipantDetails(mouse, sr_exp).save_to_db()"
   ],
   "metadata": {
    "collapsed": false,
    "pycharm": {
     "name": "#%%\n"
    }
   }
  },
  {
   "cell_type": "code",
   "execution_count": 7,
   "outputs": [],
   "source": [
    "new_participants_in_db = ParticipantDetails.list_participants(sr_exp.experiment_name)"
   ],
   "metadata": {
    "collapsed": false,
    "pycharm": {
     "name": "#%%\n"
    }
   }
  },
  {
   "cell_type": "markdown",
   "source": [
    "At this point, the Participant Details table for the Skilled Reaching experiment is seeded!!\n"
   ],
   "metadata": {
    "collapsed": false,
    "pycharm": {
     "name": "#%% md\n"
    }
   }
  },
  {
   "cell_type": "markdown",
   "source": [
    "Now I want to update the participant directories, because I've just added this column."
   ],
   "metadata": {
    "collapsed": false,
    "pycharm": {
     "name": "#%% md\n"
    }
   }
  },
  {
   "cell_type": "code",
   "execution_count": 9,
   "outputs": [
    {
     "name": "stdout",
     "output_type": "stream",
     "text": [
      "745: et745\n",
      "7043: et7043\n",
      "757: et757\n",
      "7081: et7081\n",
      "704: et704\n",
      "7038: et7038\n",
      "749: et749\n",
      "7063: et7063\n",
      "764: et764\n",
      "719: et719\n",
      "710: et710\n",
      "713: et713\n",
      "7064: et7064\n",
      "717: et717\n",
      "7061: et7061\n",
      "7062: et7062\n",
      "740: et740\n",
      "7065: et7065\n",
      "743: et743\n"
     ]
    }
   ],
   "source": [
    "for mouse in all_participants:\n",
    "    eartag = mouse.eartag\n",
    "    for a_dir in all_participant_dirs:\n",
    "        if a_dir.name == 'et' + str(eartag):\n",
    "            # print(f\"{eartag}: {a_dir.name}\")\n",
    "            mouse_details = ParticipantDetails.from_db(eartag, sr_exp.experiment_name)\n",
    "            mouse_details.participant_dir = str(a_dir)\n",
    "            mouse_details.save_to_db()\n",
    "\n"
   ],
   "metadata": {
    "collapsed": false,
    "pycharm": {
     "name": "#%%\n"
    }
   }
  }
 ],
 "metadata": {
  "kernelspec": {
   "display_name": "Python 3",
   "language": "python",
   "name": "python3"
  },
  "language_info": {
   "codemirror_mode": {
    "name": "ipython",
    "version": 2
   },
   "file_extension": ".py",
   "mimetype": "text/x-python",
   "name": "python",
   "nbconvert_exporter": "python",
   "pygments_lexer": "ipython2",
   "version": "2.7.6"
  }
 },
 "nbformat": 4,
 "nbformat_minor": 0
}