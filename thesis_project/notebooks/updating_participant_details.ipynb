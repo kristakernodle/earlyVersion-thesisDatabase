{
 "cells": [
  {
   "cell_type": "code",
   "execution_count": 6,
   "metadata": {
    "collapsed": true
   },
   "outputs": [],
   "source": [
    "from database.database import Database\n",
    "from data.constants import dbConnection_Krista\n",
    "\n",
    "from models.experiments import Experiments\n",
    "from models.participant_details import ParticipantDetails\n",
    "import utilities as utils\n",
    "from templates.experiment_specific_details import skilled_reaching\n",
    "\n",
    "Database.initialize(**dbConnection_Krista)\n",
    "sr_exp = Experiments.from_db('skilled reaching')"
   ]
  },
  {
   "cell_type": "code",
   "execution_count": 4,
   "outputs": [],
   "source": [
    "participants_in_db = ParticipantDetails.list_participants(sr_exp.experiment_name)"
   ],
   "metadata": {
    "collapsed": false,
    "pycharm": {
     "name": "#%%\n"
    }
   }
  },
  {
   "cell_type": "code",
   "execution_count": 25,
   "outputs": [],
   "source": [
    "mouse_details = ParticipantDetails.from_db(7081, sr_exp.experiment_name)\n",
    "\n",
    "mouse_details.start_date = utils.convert_date_int_yyyymmdd(20190327)\n",
    "mouse_details.end_date = utils.convert_date_int_yyyymmdd(20190527)\n",
    "\n",
    "mouse_details.exp_spec_details = skilled_reaching\n",
    "mouse_details.exp_spec_details[\"paw preference\"] = \"left\"\n",
    "mouse_details.exp_spec_details[\"reaching box\"] = 2\n",
    "\n",
    "mouse_details = mouse_details.save_to_db()\n",
    "\n"
   ],
   "metadata": {
    "collapsed": false,
    "pycharm": {
     "name": "#%%\n"
    }
   }
  }
 ],
 "metadata": {
  "kernelspec": {
   "display_name": "Python 3",
   "language": "python",
   "name": "python3"
  },
  "language_info": {
   "codemirror_mode": {
    "name": "ipython",
    "version": 2
   },
   "file_extension": ".py",
   "mimetype": "text/x-python",
   "name": "python",
   "nbconvert_exporter": "python",
   "pygments_lexer": "ipython2",
   "version": "2.7.6"
  }
 },
 "nbformat": 4,
 "nbformat_minor": 0
}